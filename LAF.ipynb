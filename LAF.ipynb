{
 "cells": [
  {
   "cell_type": "code",
   "execution_count": 1,
   "metadata": {},
   "outputs": [
    {
     "name": "stderr",
     "output_type": "stream",
     "text": [
      "/home/shaofeishen/miniconda3/envs/vunlearning/lib/python3.9/site-packages/tqdm/auto.py:21: TqdmWarning: IProgress not found. Please update jupyter and ipywidgets. See https://ipywidgets.readthedocs.io/en/stable/user_install.html\n",
      "  from .autonotebook import tqdm as notebook_tqdm\n"
     ]
    }
   ],
   "source": [
    "import Data\n",
    "import Model\n",
    "import Train\n",
    "import time    \n",
    "import VUnlearning\n",
    "import copy\n",
    "import Utils\n",
    "import matplotlib.pyplot as plt\n",
    "# Set random seed for whole work\n",
    "Utils.random_setting(0)"
   ]
  },
  {
   "cell_type": "code",
   "execution_count": 2,
   "metadata": {},
   "outputs": [],
   "source": [
    "# Set the dataset, unlearning task and forgetting label (if class unlearning)\n",
    "\n",
    "DATASET = 'CIFAR10'\n",
    "TASK = 'class'\n",
    "LABEL = 0"
   ]
  },
  {
   "cell_type": "code",
   "execution_count": 3,
   "metadata": {},
   "outputs": [],
   "source": [
    "# Set hyperparameters:\n",
    "\n",
    "LATENT_DIMS = 16\n",
    "UNLEARNING_EPOCH = 40\n",
    "UNLEARNING_LR_UE = 0.00001\n",
    "UNLEARNING_LR_RA = 0.00005\n",
    "TEMP = 20\n"
   ]
  },
  {
   "cell_type": "markdown",
   "metadata": {},
   "source": []
  },
  {
   "cell_type": "code",
   "execution_count": 4,
   "metadata": {},
   "outputs": [],
   "source": [
    "UNLEARN_LABEL = [LABEL]\n",
    "REMAIN_LABEL = [i for i in range(10) if i != LABEL]\n",
    "UNLEARN_DISTRIBUTION = [0 for i in range(10)] \n",
    "UNLEARN_DISTRIBUTION[LABEL] = 1   "
   ]
  },
  {
   "cell_type": "code",
   "execution_count": 5,
   "metadata": {},
   "outputs": [
    {
     "name": "stdout",
     "output_type": "stream",
     "text": [
      "Files already downloaded and verified\n",
      "Files already downloaded and verified\n",
      "Train data length:  50000\n",
      "Test data length:  10000\n",
      "[5000. 5000. 5000. 5000. 5000. 5000. 5000. 5000. 5000. 5000.]\n",
      "[5000.    0.    0.    0.    0.    0.    0.    0.    0.    0.]\n",
      "{0, 1, 2, 3, 4, 5, 6, 7, 8, 9}\n"
     ]
    }
   ],
   "source": [
    "data = Data.data_construction(DATASET)        \n",
    "loaders = data.construct_data(TASK, UNLEARN_DISTRIBUTION)"
   ]
  },
  {
   "cell_type": "code",
   "execution_count": 6,
   "metadata": {},
   "outputs": [
    {
     "name": "stdout",
     "output_type": "stream",
     "text": [
      "Epoch [1/20], Loss: 1.5731\n",
      "Epoch [2/20], Loss: 0.9984\n",
      "Epoch [3/20], Loss: 0.9707\n",
      "Epoch [4/20], Loss: 1.2749\n",
      "Epoch [5/20], Loss: 1.1010\n",
      "Epoch [6/20], Loss: 1.1712\n",
      "Epoch [7/20], Loss: 1.0347\n",
      "Epoch [8/20], Loss: 0.9497\n",
      "Epoch [9/20], Loss: 1.4852\n",
      "Epoch [10/20], Loss: 0.5406\n",
      "Epoch [11/20], Loss: 0.4321\n",
      "Epoch [12/20], Loss: 0.6414\n",
      "Epoch [13/20], Loss: 0.7890\n",
      "Epoch [14/20], Loss: 0.7155\n",
      "Epoch [15/20], Loss: 0.5687\n",
      "Epoch [16/20], Loss: 1.1929\n",
      "Epoch [17/20], Loss: 0.5532\n",
      "Epoch [18/20], Loss: 1.0556\n",
      "Epoch [19/20], Loss: 0.4076\n",
      "Epoch [20/20], Loss: 0.8496\n"
     ]
    }
   ],
   "source": [
    "if DATASET == 'Digit' or DATASET == 'Fashion':\n",
    "    model = Model.CNN()\n",
    "else:\n",
    "    model = Model.ResNet() \n",
    "init_model = Train.train(model, loaders['train'], loaders['test'])"
   ]
  },
  {
   "cell_type": "code",
   "execution_count": 7,
   "metadata": {},
   "outputs": [
    {
     "name": "stdout",
     "output_type": "stream",
     "text": [
      "Initial remaining training acc is  79.03333333333333\n",
      "Initial forgetting training acc is  78.52\n",
      "Initial test acc is  83.05\n",
      "Initial remaining test acc is  83.0111111111111\n",
      "Initial forgetting test acc is  83.4\n"
     ]
    }
   ],
   "source": [
    "init_acc_re_tr = Train.test(init_model, loaders['remain'])\n",
    "init_acc_fr_tr = Train.test(init_model, loaders['unlearn'])\n",
    "init_acc_ts = Train.test(init_model, loaders['test'])\n",
    "init_acc_re_ts = Train.test(init_model, loaders['test'], REMAIN_LABEL)\n",
    "init_acc_fr_ts = Train.test(init_model, loaders['test'], UNLEARN_LABEL)\n",
    "\n",
    "print('Initial remaining training acc is ', init_acc_re_tr)\n",
    "print('Initial forgetting training acc is ', init_acc_fr_tr)\n",
    "print('Initial test acc is ', init_acc_ts)\n",
    "print('Initial remaining test acc is ', init_acc_re_ts)\n",
    "print('Initial forgetting test acc is ', init_acc_fr_ts)"
   ]
  },
  {
   "cell_type": "code",
   "execution_count": 8,
   "metadata": {},
   "outputs": [
    {
     "name": "stdout",
     "output_type": "stream",
     "text": [
      "Epoch [1/20], Loss: 1.3059\n",
      "Epoch [2/20], Loss: 1.1558\n",
      "Epoch [3/20], Loss: 1.4513\n",
      "Epoch [4/20], Loss: 0.8814\n",
      "Epoch [5/20], Loss: 0.8435\n",
      "Epoch [6/20], Loss: 1.0303\n",
      "Epoch [7/20], Loss: 0.7796\n",
      "Epoch [8/20], Loss: 0.4745\n",
      "Epoch [9/20], Loss: 0.8125\n",
      "Epoch [10/20], Loss: 0.4008\n",
      "Epoch [11/20], Loss: 0.5546\n",
      "Epoch [12/20], Loss: 0.9702\n",
      "Epoch [13/20], Loss: 0.8914\n",
      "Epoch [14/20], Loss: 0.5584\n",
      "Epoch [15/20], Loss: 0.8378\n",
      "Epoch [16/20], Loss: 0.6804\n",
      "Epoch [17/20], Loss: 0.6085\n",
      "Epoch [18/20], Loss: 0.4904\n",
      "Epoch [19/20], Loss: 0.4531\n",
      "Epoch [20/20], Loss: 0.6840\n"
     ]
    }
   ],
   "source": [
    "if DATASET == 'Digit' or DATASET == 'Fashion':\n",
    "    model = Model.CNN()\n",
    "else:\n",
    "    model = Model.ResNet() \n",
    "retrain_model = Train.train(model, loaders['remain'], loaders['test'])"
   ]
  },
  {
   "cell_type": "code",
   "execution_count": 9,
   "metadata": {},
   "outputs": [
    {
     "name": "stdout",
     "output_type": "stream",
     "text": [
      "Retrain remaining training acc is  79.53555555555556\n",
      "Retrain forgetting training acc is  0.0\n",
      "Retrain test acc is  76.61\n",
      "Retrain remaining test acc is  85.12222222222222\n",
      "Retrain forgetting test acc is  0.0\n"
     ]
    }
   ],
   "source": [
    "retrain_acc_re_tr = Train.test(retrain_model, loaders['remain'])\n",
    "retrain_acc_fr_tr = Train.test(retrain_model, loaders['unlearn'])\n",
    "retrain_acc_ts = Train.test(retrain_model, loaders['test'])\n",
    "retrain_acc_re_ts = Train.test(retrain_model, loaders['test'], REMAIN_LABEL)\n",
    "retrain_acc_fr_ts = Train.test(retrain_model, loaders['test'], UNLEARN_LABEL)\n",
    "\n",
    "print('Retrain remaining training acc is ', retrain_acc_re_tr)\n",
    "print('Retrain forgetting training acc is ', retrain_acc_fr_tr)\n",
    "print('Retrain test acc is ', retrain_acc_ts)\n",
    "print('Retrain remaining test acc is ', retrain_acc_re_ts)\n",
    "print('Retrain forgetting test acc is ', retrain_acc_fr_ts)"
   ]
  },
  {
   "cell_type": "code",
   "execution_count": 10,
   "metadata": {},
   "outputs": [],
   "source": [
    "model = copy.deepcopy(init_model)"
   ]
  },
  {
   "cell_type": "code",
   "execution_count": 11,
   "metadata": {},
   "outputs": [
    {
     "name": "stdout",
     "output_type": "stream",
     "text": [
      "VAE Training Epoch:  0  Loss:  181.78541664518917\n",
      "VAE Training Epoch:  1  Loss:  167.94298305987397\n",
      "VAE Training Epoch:  2  Loss:  165.96128627022946\n",
      "VAE Training Epoch:  3  Loss:  163.4784072221889\n",
      "VAE Training Epoch:  4  Loss:  162.43390625253826\n",
      "VAE Training Epoch:  5  Loss:  161.93347479880657\n",
      "VAE Training Epoch:  6  Loss:  160.46432966645986\n",
      "VAE Training Epoch:  7  Loss:  161.07764967847007\n",
      "VAE Training Epoch:  8  Loss:  161.1036991600188\n",
      "VAE Training Epoch:  9  Loss:  160.75179805255286\n",
      "VAE Training Epoch:  0  Loss:  160.79107461917172\n",
      "VAE Training Epoch:  1  Loss:  135.14541431597084\n",
      "VAE Training Epoch:  2  Loss:  129.96229708726239\n",
      "VAE Training Epoch:  3  Loss:  126.0811538696289\n",
      "VAE Training Epoch:  4  Loss:  123.35485956471437\n",
      "VAE Training Epoch:  5  Loss:  123.33208018503372\n",
      "VAE Training Epoch:  6  Loss:  119.9641518076514\n",
      "VAE Training Epoch:  7  Loss:  121.58324791975082\n",
      "VAE Training Epoch:  8  Loss:  121.44869820175657\n",
      "VAE Training Epoch:  9  Loss:  118.96168100150527\n"
     ]
    }
   ],
   "source": [
    "time_start = time.time()\n",
    "# train a vae to learn the remain data distribution\n",
    "s_vae = Model.VariationalAutoencoder(DATASET,LATENT_DIMS).cuda()\n",
    "s_vae = Train.vae_train(model, s_vae, loaders['train'])\n",
    "\n",
    "# train a vae to learn the unlearned data distribution\n",
    "u_vae = Model.VariationalAutoencoder(DATASET,LATENT_DIMS).cuda()\n",
    "u_vae = Train.vae_train(model, u_vae, loaders['unlearn'])"
   ]
  },
  {
   "cell_type": "code",
   "execution_count": 12,
   "metadata": {},
   "outputs": [
    {
     "name": "stdout",
     "output_type": "stream",
     "text": [
      "0.41968235088761446\n",
      "-110.44251761466835\n",
      "0.20120849123426304\n",
      "-110.51388199921627\n",
      "-0.33648093642702526\n",
      "-110.40839385986328\n",
      "-2.671085600640364\n",
      "-110.10140631608903\n",
      "-11.798814931492897\n",
      "-109.7245628211149\n",
      "-16.08809039850903\n",
      "-109.60211512085739\n",
      "-17.855843367849946\n",
      "-109.71708509117175\n",
      "-18.31675938891757\n",
      "-109.7083066709482\n",
      "-18.242471950069355\n",
      "-109.71515344510412\n",
      "-17.021032831471437\n",
      "-109.69211383989662\n",
      "-15.43361056382489\n",
      "-109.55291092016135\n",
      "-11.941150057847333\n",
      "-109.55662279068285\n",
      "-7.967937833943944\n",
      "-109.38565904167807\n",
      "-5.910296203224522\n",
      "-109.52571519013424\n",
      "-3.9456294357396993\n",
      "-109.54675040275428\n",
      "-3.1005109313187327\n",
      "-109.81139485547497\n",
      "-2.0019042628585915\n",
      "-109.76405324753682\n",
      "-1.4394727573273287\n",
      "-109.7758086866634\n",
      "-1.2815385806332729\n",
      "-109.95098531929551\n",
      "-1.2463972006633783\n",
      "-110.05223117512503\n",
      "-0.6596268088954269\n",
      "-109.97764072296725\n",
      "-0.7356903416335963\n",
      "-110.16848225198734\n",
      "-0.46694635281896896\n",
      "-110.06849947400913\n",
      "-0.31864994802292745\n",
      "-110.16645676922646\n",
      "-0.30327584333480545\n",
      "-110.21433505890475\n",
      "-0.17182193440236862\n",
      "-110.21829777614326\n",
      "-0.2766994792185012\n",
      "-110.3269015755623\n",
      "-0.10157489169175458\n",
      "-110.26376663499578\n",
      "-0.19771194458007812\n",
      "-110.4250110699113\n",
      "-0.08486987071432125\n",
      "-110.33864967686355\n",
      "0.01764411683295183\n",
      "-110.30527165892777\n",
      "-0.06183876960900179\n",
      "-110.40381257852931\n",
      "0.013116046881220143\n",
      "-110.37668361785306\n",
      "0.09316307116465963\n",
      "-110.37138721441767\n",
      "0.11378012493157842\n",
      "-110.45470948431903\n",
      "0.08221411249440187\n",
      "-110.50554904816256\n",
      "0.09750424524781051\n",
      "-110.36410094826084\n",
      "0.0904358298915207\n",
      "-110.58831675341175\n",
      "0.09824288726612261\n",
      "-110.61524351083548\n",
      "0.13062995862049662\n",
      "-110.54587146734735\n"
     ]
    }
   ],
   "source": [
    "unlearn_model, all_loss1_list, all_loss2_list = VUnlearning.extractor_unlearning(model, s_vae, u_vae, loaders,UNLEARNING_EPOCH, UNLEARNING_LR_UE, UNLEARNING_LR_RA, TEMP)\n",
    "time_end = time.time()\n",
    "unlearn_time = time_end - time_start"
   ]
  },
  {
   "cell_type": "code",
   "execution_count": 13,
   "id": "c40c735c",
   "metadata": {},
   "outputs": [
    {
     "data": {
      "text/plain": [
       "<matplotlib.legend.Legend at 0x7f0f20727a30>"
      ]
     },
     "execution_count": 13,
     "metadata": {},
     "output_type": "execute_result"
    },
    {
     "data": {
      "image/png": "[encoded data removed]",
      "text/plain": [
       "<Figure size 640x480 with 1 Axes>"
      ]
     },
     "metadata": {},
     "output_type": "display_data"
    }
   ],
   "source": [
    "x = range(len(all_loss1_list))\n",
    "plt.plot(x,all_loss1_list,label = 'extractor unlearning')\n",
    "plt.plot(x,all_loss2_list,label = 'representation alignment')\n",
    "plt.xlabel('batch')\n",
    "plt.ylabel('loss')\n",
    "plt.legend()"
   ]
  },
  {
   "cell_type": "code",
   "execution_count": 14,
   "metadata": {},
   "outputs": [
    {
     "name": "stdout",
     "output_type": "stream",
     "text": [
      "5000\n",
      "5024\n",
      "MIA attacker training accuracy = 0.8811\n",
      "MIA Attacker accuracy = 0.4761\n",
      "Unlearn remaining training acc is  75.79777777777778\n",
      "Unlearn forgetting training acc is  7.18\n",
      "Unlearn test acc is  72.63\n",
      "Unlearn remaining test acc is  80.47777777777777\n",
      "Unlearn forgetting test acc is  2.0\n",
      "Attack Success Rate is  0.4761427425821973\n",
      "Algorithm Time is  1399.774664402008\n"
     ]
    }
   ],
   "source": [
    "attack_model = Train.train_attack_model(unlearn_model, loaders['sample'], loaders['test'])\n",
    "            \n",
    "asr = Train.attack(unlearn_model, attack_model, loaders['unlearn'], loaders['test'])\n",
    "acc_re_tr = Train.test(unlearn_model, loaders['remain'])\n",
    "acc_fr_tr = Train.test(unlearn_model, loaders['unlearn'])\n",
    "acc_ts = Train.test(unlearn_model, loaders['test'])\n",
    "acc_re_ts = Train.test(unlearn_model, loaders['test'], REMAIN_LABEL)\n",
    "acc_fr_ts = Train.test(unlearn_model, loaders['test'], UNLEARN_LABEL)\n",
    "\n",
    "print('Unlearn remaining training acc is ', acc_re_tr)\n",
    "print('Unlearn forgetting training acc is ', acc_fr_tr)\n",
    "print('Unlearn test acc is ', acc_ts)\n",
    "print('Unlearn remaining test acc is ', acc_re_ts)\n",
    "print('Unlearn forgetting test acc is ', acc_fr_ts)\n",
    "print('Attack Success Rate is ', asr)\n",
    "print('Algorithm Time is ', unlearn_time)"
   ]
  },
  {
   "cell_type": "code",
   "execution_count": null,
   "metadata": {},
   "outputs": [],
   "source": []
  }
 ],
 "metadata": {
  "kernelspec": {
   "display_name": "Python 3",
   "language": "python",
   "name": "python3"
  },
  "language_info": {
   "codemirror_mode": {
    "name": "ipython",
    "version": 3
   },
   "file_extension": ".py",
   "mimetype": "text/x-python",
   "name": "python",
   "nbconvert_exporter": "python",
   "pygments_lexer": "ipython3",
   "version": "3.9.16"
  }
 },
 "nbformat": 4,
 "nbformat_minor": 5
}
